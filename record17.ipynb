{
 "cells": [
  {
   "cell_type": "code",
   "execution_count": 33,
   "id": "ac1e0583",
   "metadata": {},
   "outputs": [
    {
     "name": "stdout",
     "output_type": "stream",
     "text": [
      "enter publisher name of the book:sahva\n",
      "enter title name of the book:abc\n",
      "enter author name of the book:sinu\n",
      "enter price of the book:20\n",
      "enter pages of the book:120\n",
      "Publisher: sahva\n",
      "Title: abc\n",
      "Author: sinu\n",
      "Price: 20\n",
      "Pages: 120\n"
     ]
    }
   ],
   "source": [
    "class Publisher:\n",
    "    def __init__(self):\n",
    "        self.name = input(\"enter publisher name of the book:\")\n",
    "\n",
    "    def display(self):\n",
    "        print(\"Publisher:\", self.name)\n",
    "\n",
    "\n",
    "class Book(Publisher):\n",
    "    def __init__(self):\n",
    "        super().__init__()\n",
    "        self.title = input(\"enter title name of the book:\")\n",
    "\n",
    "        self.author = input(\"enter author name of the book:\")\n",
    "\n",
    "    def display(self):\n",
    "        super().display()\n",
    "        print(\"Title:\", self.title)\n",
    "        print(\"Author:\", self.author)\n",
    "\n",
    "\n",
    "class Python(Book):\n",
    "    def __init__(self):\n",
    "        super().__init__()\n",
    "        self.price = int(input(\"enter price of the book:\"))\n",
    "        self.pages = int(input(\"enter pages of the book:\"))\n",
    "\n",
    "    def display(self):\n",
    "        super().display()\n",
    "        print(\"Price:\", self.price)\n",
    "        print(\"Pages:\", self.pages)\n",
    "\n",
    "\n",
    "p=Python()\n",
    "p.display()"
   ]
  },
  {
   "cell_type": "code",
   "execution_count": null,
   "id": "2bff37af",
   "metadata": {},
   "outputs": [],
   "source": []
  },
  {
   "cell_type": "code",
   "execution_count": null,
   "id": "071ca8eb",
   "metadata": {},
   "outputs": [],
   "source": []
  }
 ],
 "metadata": {
  "kernelspec": {
   "display_name": "Python 3 (ipykernel)",
   "language": "python",
   "name": "python3"
  },
  "language_info": {
   "codemirror_mode": {
    "name": "ipython",
    "version": 3
   },
   "file_extension": ".py",
   "mimetype": "text/x-python",
   "name": "python",
   "nbconvert_exporter": "python",
   "pygments_lexer": "ipython3",
   "version": "3.11.5"
  }
 },
 "nbformat": 4,
 "nbformat_minor": 5
}
