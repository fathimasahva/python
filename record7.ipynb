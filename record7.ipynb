{
 "cells": [
  {
   "cell_type": "code",
   "execution_count": 24,
   "id": "7df3163b",
   "metadata": {},
   "outputs": [
    {
     "name": "stdout",
     "output_type": "stream",
     "text": [
      "enter colours for color1:yellow,blue\n",
      "colours in color1: {'blue', 'yellow'}\n",
      "enter colours for color2:red,yellow\n",
      "colours in color1: {'yellow', 'red'}\n",
      "colors from color1 not in color 2: {'blue'}\n"
     ]
    }
   ],
   "source": [
    "#1.write a python program to printout all color set 1 not contained in color set2\n",
    "\n",
    "color1=set(input(\"enter colours for color1:\").split(\",\"))\n",
    "print(\"colours in color1:\",color1)\n",
    "color2=set(input(\"enter colours for color2:\").split(\",\"))\n",
    "print(\"colours in color1:\",color2)\n",
    "\n",
    "U=color1-color2\n",
    "print(\"colors from color1 not in color 2:\",U)"
   ]
  },
  {
   "cell_type": "code",
   "execution_count": 26,
   "id": "321974ee",
   "metadata": {},
   "outputs": [
    {
     "name": "stdout",
     "output_type": "stream",
     "text": [
      "enter colours for color1:red,blue\n",
      "colours in color1: {'blue', 'red'}\n",
      "enter colours for color2:blue,yellow\n",
      "colours in color1: {'blue', 'yellow'}\n",
      "colors from color1 not in color 2: {'blue', 'yellow', 'red'}\n"
     ]
    }
   ],
   "source": [
    "#2.write a python program to printout all colors from color set 1 and color set2\n",
    "\n",
    "color1=set(input(\"enter colours for color1:\").split(\",\"))\n",
    "print(\"colours in color1:\",color1)\n",
    "color2=set(input(\"enter colours for color2:\").split(\",\"))\n",
    "print(\"colours in color1:\",color2)\n",
    "\n",
    "U=color1|color2\n",
    "print(\"colors from color1 not in color 2:\",U)"
   ]
  },
  {
   "cell_type": "code",
   "execution_count": null,
   "id": "d0fd065e",
   "metadata": {},
   "outputs": [],
   "source": []
  }
 ],
 "metadata": {
  "kernelspec": {
   "display_name": "Python 3 (ipykernel)",
   "language": "python",
   "name": "python3"
  },
  "language_info": {
   "codemirror_mode": {
    "name": "ipython",
    "version": 3
   },
   "file_extension": ".py",
   "mimetype": "text/x-python",
   "name": "python",
   "nbconvert_exporter": "python",
   "pygments_lexer": "ipython3",
   "version": "3.11.5"
  }
 },
 "nbformat": 4,
 "nbformat_minor": 5
}
