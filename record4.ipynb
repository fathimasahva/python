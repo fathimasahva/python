{
 "cells": [
  {
   "cell_type": "code",
   "execution_count": 22,
   "id": "8f7d1c67",
   "metadata": {},
   "outputs": [
    {
     "name": "stdout",
     "output_type": "stream",
     "text": [
      "enter a string:sahva\n",
      "the result is: aahvs\n"
     ]
    }
   ],
   "source": [
    "#1.write a python program to change a given string to a new string where the first and last chars have been exchanged.[eg:python->nythop]\n",
    "\n",
    "text=input(\"enter a string:\")\n",
    "result=(text[-1]+text[1:-1]+text[0])\n",
    "print(\"the result is:\",result)"
   ]
  },
  {
   "cell_type": "code",
   "execution_count": 23,
   "id": "b9e5ef28",
   "metadata": {},
   "outputs": [
    {
     "name": "stdout",
     "output_type": "stream",
     "text": [
      "enter a string:sahva\n",
      "the result is: sava\n"
     ]
    }
   ],
   "source": [
    "#2.write a python program to get a string made of the first 2 and the last 2 chars from a given a string\n",
    "\n",
    "text=input(\"enter a string:\")\n",
    "result=(text[:2]+text[-2:])\n",
    "print(\"the result is:\",result)"
   ]
  },
  {
   "cell_type": "code",
   "execution_count": 24,
   "id": "a25156d1",
   "metadata": {},
   "outputs": [
    {
     "name": "stdout",
     "output_type": "stream",
     "text": [
      "enter first string:fathima\n",
      "enter a second string:sahva\n",
      "result is= sathima fahva\n"
     ]
    }
   ],
   "source": [
    "#3. write a python program to get a single string from 2 given strings , seperated by a space and swap the first two characters of each string.\n",
    "\n",
    "text1=input(\"enter first string:\")\n",
    "text2=input(\"enter a second string:\")\n",
    "result1=text2[:2]+text1[2:]\n",
    "result2=text1[:2]+text2[2:]\n",
    "\n",
    "result=result1 + \" \" +result2\n",
    "\n",
    "print(\"result is=\" ,result)"
   ]
  },
  {
   "cell_type": "code",
   "execution_count": 25,
   "id": "adf53599",
   "metadata": {},
   "outputs": [
    {
     "name": "stdout",
     "output_type": "stream",
     "text": [
      "enter s string:onion\n",
      "the result is: oni$n\n"
     ]
    }
   ],
   "source": [
    "#4. write a python program to get a string from a given string where all occurences of its first char have been changed to $,except the first char itself .(use replace())[eg:onion->oni$n]\n",
    "\n",
    "text=input(\"enter s string:\")\n",
    "\n",
    "first_char=text[0]\n",
    "\n",
    "result=first_char+text[1:].replace(first_char,\"$\")\n",
    "\n",
    "print(\"the result is:\",result)"
   ]
  },
  {
   "cell_type": "code",
   "execution_count": null,
   "id": "def4d576",
   "metadata": {},
   "outputs": [],
   "source": []
  }
 ],
 "metadata": {
  "kernelspec": {
   "display_name": "Python 3 (ipykernel)",
   "language": "python",
   "name": "python3"
  },
  "language_info": {
   "codemirror_mode": {
    "name": "ipython",
    "version": 3
   },
   "file_extension": ".py",
   "mimetype": "text/x-python",
   "name": "python",
   "nbconvert_exporter": "python",
   "pygments_lexer": "ipython3",
   "version": "3.11.5"
  }
 },
 "nbformat": 4,
 "nbformat_minor": 5
}
