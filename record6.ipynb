{
 "cells": [
  {
   "cell_type": "code",
   "execution_count": 8,
   "id": "5683b5e9",
   "metadata": {},
   "outputs": [
    {
     "name": "stdout",
     "output_type": "stream",
     "text": [
      "enter numbers :1,2,3,4,5,6\n",
      "tuple line= (1, 2, 3, 4, 5, 6)\n",
      "first 3rd number = 3\n",
      "last 3rd number = 4\n"
     ]
    }
   ],
   "source": [
    "#1.write a python program to get the 3rd element and 3rd element from last of a tuple\n",
    "\n",
    "number=input(\"enter numbers :\")\n",
    "n=tuple(map(int,number.split(\",\")))\n",
    "print(\"tuple line=\",n)\n",
    "first=n[2]\n",
    "last=n[-3]\n",
    "print(\"first 3rd number =\",first)\n",
    "print(\"last 3rd number =\",last)"
   ]
  },
  {
   "cell_type": "code",
   "execution_count": 6,
   "id": "762793fc",
   "metadata": {},
   "outputs": [
    {
     "name": "stdout",
     "output_type": "stream",
     "text": [
      "enter numbers :1,2,3,4,5,6\n",
      "new line: (1, 2, 3, 4, 5, 6)\n",
      "average of numbers: 3.5\n"
     ]
    }
   ],
   "source": [
    "#2.write a python program which accepts a sequence of comma separated numbers from user and generate a tuple with those numbers and find sum of all items in that tuple\n",
    "\n",
    "numbers=input(\"enter numbers :\")\n",
    "comma=numbers.split(\",\")\n",
    "new=tuple(map(int,comma))\n",
    "print(\"new line:\",new)\n",
    "\n",
    "add=sum(new)/len(new)\n",
    "print(\"average of numbers:\",add)"
   ]
  },
  {
   "cell_type": "code",
   "execution_count": null,
   "id": "eb77ece7",
   "metadata": {},
   "outputs": [],
   "source": []
  }
 ],
 "metadata": {
  "kernelspec": {
   "display_name": "Python 3 (ipykernel)",
   "language": "python",
   "name": "python3"
  },
  "language_info": {
   "codemirror_mode": {
    "name": "ipython",
    "version": 3
   },
   "file_extension": ".py",
   "mimetype": "text/x-python",
   "name": "python",
   "nbconvert_exporter": "python",
   "pygments_lexer": "ipython3",
   "version": "3.11.5"
  }
 },
 "nbformat": 4,
 "nbformat_minor": 5
}
