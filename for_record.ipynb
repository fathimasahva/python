{
 "cells": [
  {
   "cell_type": "code",
   "execution_count": 25,
   "id": "d7ee9325",
   "metadata": {},
   "outputs": [
    {
     "name": "stdout",
     "output_type": "stream",
     "text": [
      "enter a number:5\n",
      "5 + 55 + 555 = 615\n"
     ]
    }
   ],
   "source": [
    "#1 . write a python program that accepts an integer (n) and computes the value of n+nn+nnn.\n",
    "\n",
    "n=int(input(\"enter a number:\"))\n",
    "nn=n*10+n\n",
    "nnn=nn*10+n\n",
    "result=print(n ,\"+\", nn ,\"+\", nnn ,\"=\" ,n+nn+nnn)"
   ]
  },
  {
   "cell_type": "code",
   "execution_count": 29,
   "id": "26baa33c",
   "metadata": {},
   "outputs": [
    {
     "name": "stdout",
     "output_type": "stream",
     "text": [
      "enter the radius:3\n",
      "the area is= 28.27\n"
     ]
    }
   ],
   "source": [
    "# 2. write the radius of a circle and compute  the area(import math)\n",
    "\n",
    "import math\n",
    "\n",
    "r=float(input(\"enter the radius:\"))\n",
    "area=math.pi*r*r\n",
    "result=round(area,2)\n",
    "print(\"the area is=\",result)"
   ]
  },
  {
   "cell_type": "code",
   "execution_count": null,
   "id": "fc3a99fc",
   "metadata": {},
   "outputs": [],
   "source": []
  }
 ],
 "metadata": {
  "kernelspec": {
   "display_name": "Python 3 (ipykernel)",
   "language": "python",
   "name": "python3"
  },
  "language_info": {
   "codemirror_mode": {
    "name": "ipython",
    "version": 3
   },
   "file_extension": ".py",
   "mimetype": "text/x-python",
   "name": "python",
   "nbconvert_exporter": "python",
   "pygments_lexer": "ipython3",
   "version": "3.11.5"
  }
 },
 "nbformat": 4,
 "nbformat_minor": 5
}
