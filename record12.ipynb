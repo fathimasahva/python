{
 "cells": [
  {
   "cell_type": "code",
   "execution_count": 31,
   "id": "c871486c",
   "metadata": {},
   "outputs": [
    {
     "name": "stdout",
     "output_type": "stream",
     "text": [
      "enter integers:-1 2 3\n",
      "positive integers: [2, 3]\n",
      "square of numbers: [1, 4, 9]\n",
      "enter a word:beauty\n",
      "vowels in the word: ['e', 'a', 'u']\n",
      "ordinals in the word: [98, 101, 97, 117, 116, 121]\n"
     ]
    }
   ],
   "source": [
    "\"\"\"1.List comprehensions: \n",
    "                          (a) Generate positive list of numbers from a given list of integers \n",
    "                          (b) Square of N numbers \n",
    "                          (c) Form a list of vowels selected from a given word \n",
    "                          (d) List ordinal value of each element of a word (Hint: use ord() to get ordinal values)\n",
    "\"\"\"\n",
    "\n",
    "num=input(\"enter integers:\").split()\n",
    "nums=list(map(int,num))\n",
    "result=[w for w in nums if w>0]\n",
    "print(\"positive integers:\",result)\n",
    "\n",
    "#b\n",
    "\n",
    "square=[w**2 for w in nums]\n",
    "print(\"square of numbers:\",square)\n",
    "\n",
    "#c\n",
    "word=input(\"enter a word:\")\n",
    "vowels=[w.lower() for w in word if w in \"a,e,i,o,u\"]\n",
    "print(\"vowels in the word:\",vowels)\n",
    "\n",
    "#d\n",
    "ordinals = [ord(char) for char in word]\n",
    "print(\"ordinals in the word:\",ordinals)\n",
    "\n"
   ]
  },
  {
   "cell_type": "code",
   "execution_count": null,
   "id": "826310c9",
   "metadata": {},
   "outputs": [],
   "source": []
  }
 ],
 "metadata": {
  "kernelspec": {
   "display_name": "Python 3 (ipykernel)",
   "language": "python",
   "name": "python3"
  },
  "language_info": {
   "codemirror_mode": {
    "name": "ipython",
    "version": 3
   },
   "file_extension": ".py",
   "mimetype": "text/x-python",
   "name": "python",
   "nbconvert_exporter": "python",
   "pygments_lexer": "ipython3",
   "version": "3.11.5"
  }
 },
 "nbformat": 4,
 "nbformat_minor": 5
}
