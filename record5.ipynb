{
 "cells": [
  {
   "cell_type": "code",
   "execution_count": 19,
   "id": "97f2ea2c",
   "metadata": {},
   "outputs": [
    {
     "name": "stdout",
     "output_type": "stream",
     "text": [
      "enter colors:red blue pink violet yellow\n",
      "first color and last color: red yellow\n"
     ]
    }
   ],
   "source": [
    "#1.create a list of colors from comma separated color names entered by user.Display first and last colors.\n",
    "\n",
    "text=input(\"enter colors:\")\n",
    "colors=text.split()\n",
    "print(\"first color and last color:\",colors[0] , colors[-1])\n"
   ]
  },
  {
   "cell_type": "code",
   "execution_count": 21,
   "id": "62ac2585",
   "metadata": {},
   "outputs": [
    {
     "name": "stdout",
     "output_type": "stream",
     "text": [
      "enter file name:sahva.txt\n",
      "extenson of the file is: txt\n"
     ]
    }
   ],
   "source": [
    "#2.write a python program to accept a filename from the user,print extension from the user\n",
    "\n",
    "filename=input(\"enter file name:\")\n",
    "extension=filename.split(\".\")[-1]\n",
    "print(\"extenson of the file is:\",extension)"
   ]
  },
  {
   "cell_type": "code",
   "execution_count": 25,
   "id": "a4cbc140",
   "metadata": {},
   "outputs": [
    {
     "name": "stdout",
     "output_type": "stream",
     "text": [
      "enter numbers separtaed with commas:1,2,3\n",
      "the list of the numbers: [1, 2, 3]\n",
      "sum of the numbers: 6\n"
     ]
    }
   ],
   "source": [
    "#3.write a pytyhon program which accepts a sequence of comma separated numbers from user and generate a list with those numbers and find sum of all items in that list\n",
    "\n",
    "numbers=input(\"enter numbers separtaed with commas:\")\n",
    "new=numbers.split(\",\")\n",
    "number_list=list(map(int,new))\n",
    "print(\"the list of the numbers:\",number_list)\n",
    "total=sum(number_list)\n",
    "print(\"sum of the numbers:\",total)"
   ]
  },
  {
   "cell_type": "code",
   "execution_count": null,
   "id": "0df0b4ea",
   "metadata": {},
   "outputs": [],
   "source": []
  }
 ],
 "metadata": {
  "kernelspec": {
   "display_name": "Python 3 (ipykernel)",
   "language": "python",
   "name": "python3"
  },
  "language_info": {
   "codemirror_mode": {
    "name": "ipython",
    "version": 3
   },
   "file_extension": ".py",
   "mimetype": "text/x-python",
   "name": "python",
   "nbconvert_exporter": "python",
   "pygments_lexer": "ipython3",
   "version": "3.11.5"
  }
 },
 "nbformat": 4,
 "nbformat_minor": 5
}
