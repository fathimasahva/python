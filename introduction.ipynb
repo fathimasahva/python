{
 "cells": [
  {
   "cell_type": "code",
   "execution_count": 1,
   "id": "d3ac1870",
   "metadata": {},
   "outputs": [
    {
     "name": "stdout",
     "output_type": "stream",
     "text": [
      "good morning\n"
     ]
    }
   ],
   "source": [
    "print(\"good morning\")"
   ]
  },
  {
   "cell_type": "code",
   "execution_count": 3,
   "id": "b43d3a59",
   "metadata": {},
   "outputs": [
    {
     "name": "stdout",
     "output_type": "stream",
     "text": [
      " Vadakke Ochath Baussery \n",
      " Balussery(po) \n",
      " Balussery\n"
     ]
    }
   ],
   "source": [
    "print(\" Vadakke Ochath Baussery \\n Balussery(po) \\n Balussery\")"
   ]
  },
  {
   "cell_type": "code",
   "execution_count": 8,
   "id": "ccd70a1e",
   "metadata": {},
   "outputs": [
    {
     "name": "stdout",
     "output_type": "stream",
     "text": [
      "2\n"
     ]
    }
   ],
   "source": [
    "print(5//2) #print(5/2)=2.5"
   ]
  },
  {
   "cell_type": "code",
   "execution_count": 6,
   "id": "c49fd37b",
   "metadata": {},
   "outputs": [
    {
     "name": "stdout",
     "output_type": "stream",
     "text": [
      "8\n"
     ]
    }
   ],
   "source": [
    "print(2*2*2)"
   ]
  },
  {
   "cell_type": "code",
   "execution_count": 7,
   "id": "6616db0d",
   "metadata": {},
   "outputs": [
    {
     "name": "stdout",
     "output_type": "stream",
     "text": [
      "8\n"
     ]
    }
   ],
   "source": [
    "print(2**3)"
   ]
  },
  {
   "cell_type": "code",
   "execution_count": 21,
   "id": "7d3983ab",
   "metadata": {},
   "outputs": [
    {
     "name": "stdout",
     "output_type": "stream",
     "text": [
      "MCA's \"students\"\n"
     ]
    }
   ],
   "source": [
    "print(\"MCA's \"  '\"students\"')"
   ]
  },
  {
   "cell_type": "code",
   "execution_count": 40,
   "id": "17819f8b",
   "metadata": {},
   "outputs": [
    {
     "name": "stdout",
     "output_type": "stream",
     "text": [
      "name= sahva\n"
     ]
    }
   ],
   "source": [
    "n=\"sahva\"\n",
    "print(\"name=\",n[0:5])"
   ]
  },
  {
   "cell_type": "code",
   "execution_count": null,
   "id": "252c142c",
   "metadata": {},
   "outputs": [],
   "source": []
  }
 ],
 "metadata": {
  "kernelspec": {
   "display_name": "Python 3 (ipykernel)",
   "language": "python",
   "name": "python3"
  },
  "language_info": {
   "codemirror_mode": {
    "name": "ipython",
    "version": 3
   },
   "file_extension": ".py",
   "mimetype": "text/x-python",
   "name": "python",
   "nbconvert_exporter": "python",
   "pygments_lexer": "ipython3",
   "version": "3.11.5"
  }
 },
 "nbformat": 4,
 "nbformat_minor": 5
}
