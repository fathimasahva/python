{
 "cells": [
  {
   "cell_type": "code",
   "execution_count": null,
   "id": "0d9f7652",
   "metadata": {},
   "outputs": [
    {
     "name": "stdout",
     "output_type": "stream",
     "text": [
      "1.Rectangle \n",
      "2.Circle \n",
      "3.Exit\n",
      "your choice:2\n",
      "enter radius of circle:3\n",
      "area of rectangle is: 28.27\n",
      "perimeter of rectangle is: 18.85\n",
      "1.Rectangle \n",
      "2.Circle \n",
      "3.Exit\n"
     ]
    }
   ],
   "source": [
    "import rectangle\n",
    "import circle\n",
    "while(1):\n",
    "    print(\"1.Rectangle \\n2.Circle \\n3.Exit\")\n",
    "    ch=int(input(\"your choice:\"))\n",
    "    if ch==1:  \n",
    "        l=int(input(\"enter length of rectangle:\"))\n",
    "        b=int(input(\"enter breadth of rectangle:\"))\n",
    "        print(\"area of rectangle:\",rectangle.area(l,b))\n",
    "        print(\"perimeter of rectangle:\",rectangle.peri(l,b))\n",
    "    elif ch==2:\n",
    "        r=int(input(\"enter radius of circle:\"))\n",
    "        print(\"area of rectangle is:\",round(circle.area(r),2))\n",
    "        print(\"perimeter of rectangle is:\",round(circle.peri(r),2))\n",
    "\n",
    "    else:\n",
    "        print(\"exiting...\")\n",
    "        break"
   ]
  },
  {
   "cell_type": "code",
   "execution_count": null,
   "id": "f2107df0",
   "metadata": {},
   "outputs": [],
   "source": []
  }
 ],
 "metadata": {
  "kernelspec": {
   "display_name": "Python 3 (ipykernel)",
   "language": "python",
   "name": "python3"
  },
  "language_info": {
   "codemirror_mode": {
    "name": "ipython",
    "version": 3
   },
   "file_extension": ".py",
   "mimetype": "text/x-python",
   "name": "python",
   "nbconvert_exporter": "python",
   "pygments_lexer": "ipython3",
   "version": "3.11.5"
  }
 },
 "nbformat": 4,
 "nbformat_minor": 5
}
