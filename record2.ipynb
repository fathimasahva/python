{
 "cells": [
  {
   "cell_type": "code",
   "execution_count": 4,
   "id": "9768d765",
   "metadata": {},
   "outputs": [
    {
     "name": "stdout",
     "output_type": "stream",
     "text": [
      "enter the temperature in celcius:40\n",
      "104.0\n"
     ]
    }
   ],
   "source": [
    "#3. python program to convert celsius to fahrenheit ((T(Faranht)=T(cel)x9/5+32))\n",
    "c=float(input(\"enter the temperature in celcius:\"))\n",
    "f=c*9/5+32\n",
    "print(\"faranheit=\",f)\n"
   ]
  },
  {
   "cell_type": "code",
   "execution_count": 10,
   "id": "97c4d797",
   "metadata": {},
   "outputs": [
    {
     "name": "stdout",
     "output_type": "stream",
     "text": [
      "enter the distance in kilometer:5\n",
      "miles= 3.11\n"
     ]
    }
   ],
   "source": [
    "#4. python program to convert kilometers to miles\n",
    "\n",
    "\n",
    "k=float(input(\"enter the distance in kilometer:\"))\n",
    "m=round(k*0.62137,2)\n",
    "print(\"miles=\",m)"
   ]
  },
  {
   "cell_type": "code",
   "execution_count": null,
   "id": "7c921c51",
   "metadata": {},
   "outputs": [],
   "source": []
  }
 ],
 "metadata": {
  "kernelspec": {
   "display_name": "Python 3 (ipykernel)",
   "language": "python",
   "name": "python3"
  },
  "language_info": {
   "codemirror_mode": {
    "name": "ipython",
    "version": 3
   },
   "file_extension": ".py",
   "mimetype": "text/x-python",
   "name": "python",
   "nbconvert_exporter": "python",
   "pygments_lexer": "ipython3",
   "version": "3.11.5"
  }
 },
 "nbformat": 4,
 "nbformat_minor": 5
}
