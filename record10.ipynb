{
 "cells": [
  {
   "cell_type": "code",
   "execution_count": 12,
   "id": "c8cfdf49",
   "metadata": {},
   "outputs": [
    {
     "name": "stdout",
     "output_type": "stream",
     "text": [
      "enter list1 numbers:8,5,6\n",
      "list1 numbers: [8, 5, 6]\n",
      "enter list2 numbers:4,3,7\n",
      "list2 numbers: [4, 3, 7]\n",
      "-> 2 lists are same in length\n",
      "-> not same sum\n",
      "-> not common number exist\n"
     ]
    }
   ],
   "source": [
    "#2 lists of integer a).same length b).same sum c).same value occur\n",
    "\n",
    "num1=input(\"enter list1 numbers:\")\n",
    "n1=list(map(int,num1.split(\",\")))\n",
    "print(\"list1 numbers:\",n1)\n",
    "num2=input(\"enter list2 numbers:\")\n",
    "n2=list(map(int,num2.split(\",\")))\n",
    "print(\"list2 numbers:\",n2)\n",
    "if len(n1) == len(n2):\n",
    "    print(\"-> 2 lists are same in length\")\n",
    "else:\n",
    "        print(\"-> not same length\")\n",
    "\n",
    "if sum(n1)==sum(n2):\n",
    "    print(\"-> 2 lists have same sum\")\n",
    "else:\n",
    "        print(\"-> not same sum\")\n",
    "if set(n1)&set(n2):\n",
    "    print(\"i has a common number \")\n",
    "else:\n",
    "    print(\"-> not common number exist\")"
   ]
  },
  {
   "cell_type": "code",
   "execution_count": 18,
   "id": "7490ab75",
   "metadata": {},
   "outputs": [
    {
     "name": "stdout",
     "output_type": "stream",
     "text": [
      "enter name of anything:reading\n",
      "result: readingly\n"
     ]
    }
   ],
   "source": [
    "# add ing at the end.already ends with ing,the apply ly\n",
    "\n",
    "name=input(\"enter name of anything:\")\n",
    "if name.endswith(\"ing\"):\n",
    "    new_name=name+\"ly\"\n",
    "else:\n",
    "    new_name=name+\"ing\"\n",
    "print(\"result:\",new_name)    "
   ]
  },
  {
   "cell_type": "code",
   "execution_count": null,
   "id": "50d5dcd2",
   "metadata": {},
   "outputs": [],
   "source": []
  }
 ],
 "metadata": {
  "kernelspec": {
   "display_name": "Python 3 (ipykernel)",
   "language": "python",
   "name": "python3"
  },
  "language_info": {
   "codemirror_mode": {
    "name": "ipython",
    "version": 3
   },
   "file_extension": ".py",
   "mimetype": "text/x-python",
   "name": "python",
   "nbconvert_exporter": "python",
   "pygments_lexer": "ipython3",
   "version": "3.11.5"
  }
 },
 "nbformat": 4,
 "nbformat_minor": 5
}
