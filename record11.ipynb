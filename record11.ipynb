{
 "cells": [
  {
   "cell_type": "code",
   "execution_count": 66,
   "id": "d208448c",
   "metadata": {},
   "outputs": [
    {
     "name": "stdout",
     "output_type": "stream",
     "text": [
      "enter the text to find the occurence of each word:my mother is sareena my father is ali\n",
      "mother : 1\n",
      "sareena : 1\n",
      "ali : 1\n",
      "is : 2\n",
      "father : 1\n",
      "my : 2\n"
     ]
    }
   ],
   "source": [
    "#1.count the occurences of each word in a line of text\n",
    "\n",
    "text=input(\"enter the text to find the occurence of each word:\").split()\n",
    "word=set(text)\n",
    "for w in word:\n",
    "    count=text.count(w)\n",
    "    print (w,\":\",count)        "
   ]
  },
  {
   "cell_type": "code",
   "execution_count": 78,
   "id": "89f74e37",
   "metadata": {},
   "outputs": [
    {
     "name": "stdout",
     "output_type": "stream",
     "text": [
      "enter numbers separated by space:200 500 20 100 30 800\n",
      "after adding 'over' for >100 values: ['over', 'over', 20, 100, 30, 'over']\n"
     ]
    }
   ],
   "source": [
    "#2.Prompt the user for a list of integers. For all values greater than 100, store ‘over’ instead.\n",
    "\n",
    "nums=input(\"enter numbers separated by space:\").split()\n",
    "\n",
    "result=[]\n",
    "for n in nums:\n",
    "    n=int(n)\n",
    "    if n>100:\n",
    "        result.append(\"over\")\n",
    "    else:\n",
    "        result.append(n)\n",
    "print(\"after adding 'over' for >100 values:\",result)        "
   ]
  },
  {
   "cell_type": "code",
   "execution_count": 20,
   "id": "fbb998b6",
   "metadata": {},
   "outputs": [
    {
     "name": "stdout",
     "output_type": "stream",
     "text": [
      "enter first names :sahva,sinu,anu,manu\n",
      "number of 'a' in names: 4\n"
     ]
    }
   ],
   "source": [
    "#3.Store a list of first names. Count the occurrences of ‘a’ within the list\n",
    "\n",
    "text=input(\"enter first names :\").split(\",\")\n",
    "count=0\n",
    "for i in text:\n",
    "    name=i.lower()\n",
    "    count+=name.count(\"a\")\n",
    "print(\"number of 'a' in names:\",count)        "
   ]
  },
  {
   "cell_type": "code",
   "execution_count": 23,
   "id": "d15e9cb1",
   "metadata": {},
   "outputs": [
    {
     "name": "stdout",
     "output_type": "stream",
     "text": [
      "enter first number:10\n",
      "enter second number:5\n",
      "GCD (10, 5) is: 5\n"
     ]
    }
   ],
   "source": [
    "#4.Find gcd of 2 numbers\n",
    "a=int(input(\"enter first number:\"))\n",
    "b=int(input(\"enter second number:\"))\n",
    "s=a,b\n",
    "while b!=0:\n",
    "    a,b=b,a%b\n",
    "\n",
    "print(\"GCD\",s,\"is:\",a)    "
   ]
  },
  {
   "cell_type": "code",
   "execution_count": 73,
   "id": "72f52eb1",
   "metadata": {},
   "outputs": [
    {
     "name": "stdout",
     "output_type": "stream",
     "text": [
      "enter numbers:1 5 9 6 3 7 5 2\n",
      "after removing even numbers: [1, 5, 9, 3, 7, 5]\n"
     ]
    }
   ],
   "source": [
    "#5.From a list of integers, create a list removing even numbers.\n",
    "\n",
    "num=input(\"enter numbers:\").split()\n",
    "nums=[int(i) for i in num]\n",
    "result=[]\n",
    "for i in nums:\n",
    "    if i % 2 != 0:\n",
    "        result.append(i)\n",
    "print(\"after removing even numbers:\",result)        \n",
    "    \n",
    "    \n"
   ]
  },
  {
   "cell_type": "code",
   "execution_count": 27,
   "id": "3ed3331d",
   "metadata": {},
   "outputs": [
    {
     "name": "stdout",
     "output_type": "stream",
     "text": [
      "enter the number to find factorial:5\n",
      "5! is: 120\n"
     ]
    }
   ],
   "source": [
    "#6. Program to find the factorial of a number\n",
    "\n",
    "num=int(input(\"enter the number to find factorial:\"))\n",
    "\n",
    "fact=1\n",
    "for i in range(1,num+1):\n",
    "    fact=fact*i\n",
    "print(str(num)+\"!\", \"is:\",fact)    \n",
    "    "
   ]
  },
  {
   "cell_type": "code",
   "execution_count": 34,
   "id": "cc9678a9",
   "metadata": {},
   "outputs": [
    {
     "name": "stdout",
     "output_type": "stream",
     "text": [
      "enter the number to find fibonacci:5\n",
      "fibonacci of 5 is: 0 1 1 2 3 "
     ]
    }
   ],
   "source": [
    "#7. Generate Fibonacci series of N terms\n",
    "\n",
    "num=int(input(\"enter the number to find fibonacci:\"))\n",
    "a,b=0,1\n",
    "print(\"fibonacci of\" ,num,\"is:\",end=\" \")\n",
    "for i in range(num):\n",
    "    print(a,end=\" \")\n",
    "    a,b = b, a+b"
   ]
  },
  {
   "cell_type": "code",
   "execution_count": 13,
   "id": "f2c30632",
   "metadata": {},
   "outputs": [
    {
     "name": "stdout",
     "output_type": "stream",
     "text": [
      "enter numbers:1 2 3 5 6\n",
      "list: [1, 2, 3, 5, 6]\n",
      "sum of items: 17\n"
     ]
    }
   ],
   "source": [
    "#8.Find the sum of all items in a list\n",
    "\n",
    "num=input(\"enter numbers:\").split()\n",
    "\n",
    "nums=list(map(int,num))\n",
    "print(\"list:\",nums)\n",
    "sum=0\n",
    "\n",
    "for i in nums:\n",
    "    sum=sum+i\n",
    "print(\"sum of items:\",sum)"
   ]
  },
  {
   "cell_type": "code",
   "execution_count": 19,
   "id": "04d5f7f1",
   "metadata": {},
   "outputs": [
    {
     "name": "stdout",
     "output_type": "stream",
     "text": [
      "enter start of range(4-digit number):1000\n",
      "enter end of the range(4-digits:)9000\n",
      "four digit numbers with all their digits even and the number is a perfect square.: [4624, 6084, 6400, 8464]\n"
     ]
    }
   ],
   "source": [
    "#9. Generate a list of four digit numbers in a given range with all their digits even and the number is a perfect square.\n",
    "\n",
    "start=int(input(\"enter start of range(4-digit number):\"))\n",
    "end=int(input(\"enter end of the range(4-digits:)\"))\n",
    "result=[]\n",
    "\n",
    "for num in range(start,end+1):\n",
    "    if 1000<=num<=9999:\n",
    "        root=int(math.sqrt(num))\n",
    "        if root*root==num:\n",
    "            \n",
    "            digits=str(num)\n",
    "            all_even=True\n",
    "            for d in digits:\n",
    "                if int(d) % 2 != 0:\n",
    "                    all_even=False\n",
    "                    break\n",
    "            if all_even:\n",
    "                result.append(num)\n",
    "print(\"four digit numbers with all their digits even and the number is a perfect square.:\",result)            \n",
    "            \n"
   ]
  },
  {
   "cell_type": "code",
   "execution_count": 28,
   "id": "3be96d00",
   "metadata": {},
   "outputs": [
    {
     "name": "stdout",
     "output_type": "stream",
     "text": [
      "enter the text to find the frequency of each word:fathima sahva vo\n",
      "character frequencies:\n",
      "f : 1\n",
      "a : 4\n",
      "t : 1\n",
      "h : 2\n",
      "i : 1\n",
      "m : 1\n",
      "  : 2\n",
      "s : 1\n",
      "v : 2\n",
      "o : 1\n"
     ]
    }
   ],
   "source": [
    "#10.Count the number of characters (character frequency) in a string.\n",
    "\n",
    "text=input(\"enter the text to find the frequency of each word:\")\n",
    "#texts=text.replace(\" \",\"\")\n",
    "\n",
    "freq={}\n",
    "for char in text:\n",
    "    if char in freq:\n",
    "        freq[char]+=1\n",
    "    else:\n",
    "        freq[char]=1\n",
    "print(\"character frequencies:\")\n",
    "for char, count in freq.items():\n",
    "    print (char,\":\",count)        \n"
   ]
  },
  {
   "cell_type": "code",
   "execution_count": 49,
   "id": "5e7db05b",
   "metadata": {},
   "outputs": [
    {
     "name": "stdout",
     "output_type": "stream",
     "text": [
      "enter the step number:4\n",
      "1\t\n",
      "2\t4\t\n",
      "3\t6\t9\t\n",
      "4\t8\t12\t16\t\n"
     ]
    }
   ],
   "source": [
    "\"\"\"11. Display the given pyramid with step number accepted from user.\n",
    "Eg: N=4 \n",
    "           1 \n",
    "           2    4 \n",
    "           3    6    9 \n",
    "           4    8    12    16   \"\"\"\n",
    "\n",
    "\n",
    "N=int(input(\"enter the step number:\"))\n",
    "for i in range(1,N+1):\n",
    "    for j in range(1,i+1):\n",
    "        print(i*j,end=\"\\t\")\n",
    "    print()        \n"
   ]
  },
  {
   "cell_type": "code",
   "execution_count": null,
   "id": "578ecd86",
   "metadata": {},
   "outputs": [],
   "source": []
  }
 ],
 "metadata": {
  "kernelspec": {
   "display_name": "Python 3 (ipykernel)",
   "language": "python",
   "name": "python3"
  },
  "language_info": {
   "codemirror_mode": {
    "name": "ipython",
    "version": 3
   },
   "file_extension": ".py",
   "mimetype": "text/x-python",
   "name": "python",
   "nbconvert_exporter": "python",
   "pygments_lexer": "ipython3",
   "version": "3.11.5"
  }
 },
 "nbformat": 4,
 "nbformat_minor": 5
}
