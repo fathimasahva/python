{
 "cells": [
  {
   "cell_type": "code",
   "execution_count": 17,
   "id": "b1a1234f",
   "metadata": {},
   "outputs": [
    {
     "name": "stdout",
     "output_type": "stream",
     "text": [
      "enter length of rectangle 1:5\n",
      "enter length of rectangle 2:6\n",
      "enter breadth of rectangle 1:3\n",
      "enter breadth of rectangle 2:2\n",
      "area of rectangle1: 15\n",
      "area of rectangle2: 12\n",
      "perimeter of rectangle1: 16\n",
      "perimeter of rectangle2: 16\n",
      "area of rectangle 1 is greater than rectangle 2\n"
     ]
    }
   ],
   "source": [
    "class rectangle():\n",
    " \n",
    "    def area(self,l,b):\n",
    "        return l*b\n",
    "    def peri(self,l,b):\n",
    "        return 2*(l+b)\n",
    "    \n",
    "r1=rectangle()\n",
    "r2=rectangle()\n",
    "\n",
    "l1=int(input(\"enter length of rectangle 1:\"))\n",
    "l2=int(input(\"enter length of rectangle 2:\"))\n",
    "b1=int(input(\"enter breadth of rectangle 1:\"))\n",
    "b2=int(input(\"enter breadth of rectangle 2:\"))\n",
    "s=r1.area(l1,b1)\n",
    "v=r2.area(l2,b2)\n",
    "\n",
    "p=r1.peri(l1,b1)\n",
    "q=r1.peri(l2,b2)\n",
    "\n",
    "print(\"area of rectangle1:\",s)\n",
    "print(\"area of rectangle2:\",v)\n",
    "\n",
    "print(\"perimeter of rectangle1:\",p)\n",
    "print(\"perimeter of rectangle2:\",q)\n",
    "\n",
    "\n",
    "\n",
    "if(s>v):\n",
    "    print(\"area of rectangle 1 is greater than rectangle 2\")\n",
    "elif (v>s):\n",
    "    print(\"area of rectangle 2 is greater than rectangle 1\")\n",
    "else:\n",
    "    print(\"rectangles are same\")\n"
   ]
  },
  {
   "cell_type": "code",
   "execution_count": null,
   "id": "0549a104",
   "metadata": {},
   "outputs": [],
   "source": []
  }
 ],
 "metadata": {
  "kernelspec": {
   "display_name": "Python 3 (ipykernel)",
   "language": "python",
   "name": "python3"
  },
  "language_info": {
   "codemirror_mode": {
    "name": "ipython",
    "version": 3
   },
   "file_extension": ".py",
   "mimetype": "text/x-python",
   "name": "python",
   "nbconvert_exporter": "python",
   "pygments_lexer": "ipython3",
   "version": "3.11.5"
  }
 },
 "nbformat": 4,
 "nbformat_minor": 5
}
