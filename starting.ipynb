{
 "cells": [
  {
   "cell_type": "code",
   "execution_count": 7,
   "id": "34649679",
   "metadata": {},
   "outputs": [
    {
     "name": "stdout",
     "output_type": "stream",
     "text": [
      "7.0\n"
     ]
    }
   ],
   "source": [
    "import math\n",
    "\n",
    "number=49\n",
    "result=math.sqrt(number)\n",
    "print(result)"
   ]
  },
  {
   "cell_type": "code",
   "execution_count": 8,
   "id": "05b83dab",
   "metadata": {},
   "outputs": [
    {
     "name": "stdout",
     "output_type": "stream",
     "text": [
      "5\n",
      "4\n"
     ]
    }
   ],
   "source": [
    "import math\n",
    "\n",
    "number=4.7\n",
    "print(math.ceil(number))\n",
    "print(math.floor(number))"
   ]
  },
  {
   "cell_type": "code",
   "execution_count": 12,
   "id": "231a764d",
   "metadata": {},
   "outputs": [
    {
     "name": "stdout",
     "output_type": "stream",
     "text": [
      "enter the side length:5\n",
      "area of the square : 25.0\n"
     ]
    }
   ],
   "source": [
    "#1 . write a program to compute the area of square\n",
    "\n",
    "#area of a square = side * side\n",
    "\n",
    "e = float(input(\"enter the side length:\"))\n",
    "area=e*e\n",
    "print(\"area of the square :\",area)"
   ]
  },
  {
   "cell_type": "code",
   "execution_count": 13,
   "id": "f7934bb2",
   "metadata": {},
   "outputs": [
    {
     "name": "stdout",
     "output_type": "stream",
     "text": [
      "enter the height of the triangle:5\n",
      "enter the base:2\n",
      "area= 5.0\n"
     ]
    }
   ],
   "source": [
    "#2.write a program to compute the area of right angled triangle.\n",
    "\n",
    "# Area 1/2*base*height\n",
    "\n",
    "height=float(input(\"enter the height of the triangle:\"))\n",
    "base=float(input(\"enter the base:\"))\n",
    "area=1/2 * height * base\n",
    "print(\"area=\",area)"
   ]
  },
  {
   "cell_type": "code",
   "execution_count": 18,
   "id": "c592ae89",
   "metadata": {},
   "outputs": [
    {
     "name": "stdout",
     "output_type": "stream",
     "text": [
      "enter your name=sahva\n",
      "Hello, sahva!\n"
     ]
    }
   ],
   "source": [
    "#3. write a program that greets the user by printing the word 'hello', a comma, the name of the user and an exclamation mark after it.(Hello,Harry!)\n",
    "\n",
    "name=input(\"enter your name=\")\n",
    "print(\"Hello,\",name+\"!\")"
   ]
  },
  {
   "cell_type": "code",
   "execution_count": null,
   "id": "b83d1955",
   "metadata": {},
   "outputs": [],
   "source": []
  }
 ],
 "metadata": {
  "kernelspec": {
   "display_name": "Python 3 (ipykernel)",
   "language": "python",
   "name": "python3"
  },
  "language_info": {
   "codemirror_mode": {
    "name": "ipython",
    "version": 3
   },
   "file_extension": ".py",
   "mimetype": "text/x-python",
   "name": "python",
   "nbconvert_exporter": "python",
   "pygments_lexer": "ipython3",
   "version": "3.11.5"
  }
 },
 "nbformat": 4,
 "nbformat_minor": 5
}
