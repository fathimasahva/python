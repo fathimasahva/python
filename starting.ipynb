{
 "cells": [
  {
   "cell_type": "code",
   "execution_count": 15,
   "id": "34649679",
   "metadata": {},
   "outputs": [
    {
     "name": "stdout",
     "output_type": "stream",
     "text": [
      "result: 7.0\n"
     ]
    }
   ],
   "source": [
    "import math\n",
    "\n",
    "number=49\n",
    "result=math.sqrt(number)\n",
    "print(\"result:\",result)"
   ]
  },
  {
   "cell_type": "code",
   "execution_count": 14,
   "id": "05b83dab",
   "metadata": {},
   "outputs": [
    {
     "name": "stdout",
     "output_type": "stream",
     "text": [
      "ceil number: 5\n",
      "floor number: 4\n"
     ]
    }
   ],
   "source": [
    "import math\n",
    "\n",
    "number=4.7\n",
    "print(\"ceil number:\",math.ceil(number))\n",
    "print(\"floor number:\",math.floor(number))"
   ]
  },
  {
   "cell_type": "code",
   "execution_count": 12,
   "id": "231a764d",
   "metadata": {},
   "outputs": [
    {
     "name": "stdout",
     "output_type": "stream",
     "text": [
      "enter the side length:6\n",
      "area of the square : 36.0\n"
     ]
    }
   ],
   "source": [
    "#1 . write a program to compute the area of square\n",
    "\n",
    "#area of a square = side * side\n",
    "\n",
    "s = float(input(\"enter the side length:\"))\n",
    "area=s*s\n",
    "print(\"area of the square :\",area)"
   ]
  },
  {
   "cell_type": "code",
   "execution_count": 11,
   "id": "f7934bb2",
   "metadata": {},
   "outputs": [
    {
     "name": "stdout",
     "output_type": "stream",
     "text": [
      "enter the height of the triangle:7\n",
      "enter the base:3\n",
      "area -> 1/2 * height * base= 10.5\n"
     ]
    }
   ],
   "source": [
    "#2.write a program to compute the area of right angled triangle.\n",
    "\n",
    "# Area 1/2*base*height\n",
    "\n",
    "height=float(input(\"enter the height of the triangle:\"))\n",
    "base=float(input(\"enter the base:\"))\n",
    "area=1/2 * height * base\n",
    "print(\"area -> 1/2 * height * base=\",area)\n"
   ]
  },
  {
   "cell_type": "code",
   "execution_count": 18,
   "id": "c592ae89",
   "metadata": {},
   "outputs": [
    {
     "name": "stdout",
     "output_type": "stream",
     "text": [
      "enter your name=sahva\n",
      "Hello, sahva!\n"
     ]
    }
   ],
   "source": [
    "#3. write a program that greets the user by printing the word 'hello', a comma, the name of the user and an exclamation mark after it.(Hello,Harry!)\n",
    "\n",
    "name=input(\"enter your name=\")\n",
    "print(\"Hello,\",name+\"!\")"
   ]
  },
  {
   "cell_type": "code",
   "execution_count": 3,
   "id": "b83d1955",
   "metadata": {},
   "outputs": [
    {
     "name": "stdout",
     "output_type": "stream",
     "text": [
      "enter a number:6\n",
      "number: 6\n",
      "previous number: 5\n",
      "next number: 7\n"
     ]
    }
   ],
   "source": [
    "#4. write a program that reads an integer number and prints it's previous and next number.\n",
    "\n",
    "name=int(input(\"enter a number:\"))\n",
    "\n",
    "result=print(\"number:\",name)\n",
    "previous=print(\"previous number:\",name-1)\n",
    "nextnum=print(\"next number:\",name+1)"
   ]
  },
  {
   "cell_type": "code",
   "execution_count": 9,
   "id": "65750663",
   "metadata": {},
   "outputs": [
    {
     "name": "stdout",
     "output_type": "stream",
     "text": [
      "enter the principal amount:1000\n",
      "enter the rate of interst:5\n",
      "enter the time (in years):2\n",
      "simple interest: 100.0\n"
     ]
    }
   ],
   "source": [
    "#5. write a python program for computing simple interest.\n",
    "\n",
    "#si=p*r*t/100\n",
    "\n",
    "#p=principal amount\n",
    "#r=rate of interest\n",
    "#t=time (in years)\n",
    "\n",
    "p=float(input(\"enter the principal amount:\"))\n",
    "r=float(input(\"enter the rate of interst:\"))\n",
    "t=float(input(\"enter the time (in years):\"))\n",
    "I=p*r*t/100\n",
    "result=print(\"simple interest:\",I)"
   ]
  },
  {
   "cell_type": "code",
   "execution_count": null,
   "id": "bd07faa4",
   "metadata": {},
   "outputs": [],
   "source": []
  },
  {
   "cell_type": "code",
   "execution_count": null,
   "id": "d55d6500",
   "metadata": {},
   "outputs": [],
   "source": []
  }
 ],
 "metadata": {
  "kernelspec": {
   "display_name": "Python 3 (ipykernel)",
   "language": "python",
   "name": "python3"
  },
  "language_info": {
   "codemirror_mode": {
    "name": "ipython",
    "version": 3
   },
   "file_extension": ".py",
   "mimetype": "text/x-python",
   "name": "python",
   "nbconvert_exporter": "python",
   "pygments_lexer": "ipython3",
   "version": "3.11.5"
  }
 },
 "nbformat": 4,
 "nbformat_minor": 5
}
