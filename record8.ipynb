{
 "cells": [
  {
   "cell_type": "code",
   "execution_count": 36,
   "id": "0dd17b0d",
   "metadata": {},
   "outputs": [
    {
     "name": "stdout",
     "output_type": "stream",
     "text": [
      "enter 5 roll numbers of students:1,5,2,3,9\n",
      "enter 5 names of the students of roll number:sahva,sinu,naira,anu,lachu\n",
      "before sorting: {1: 'sahva', 5: 'sinu', 2: 'naira', 3: 'anu', 9: 'lachu'}\n",
      "sorted in ascending order: {1: 'sahva', 2: 'naira', 3: 'anu', 5: 'sinu', 9: 'lachu'}\n",
      "sorted in descending order: {9: 'lachu', 5: 'sinu', 3: 'anu', 2: 'naira', 1: 'sahva'}\n"
     ]
    }
   ],
   "source": [
    "#1.write a python program to accept 5 students names and roll numbers,and map these into a dictionary (roll as key,name as value).sort the dictionary in ascending and descending order of their roll number [use sorted()]\n",
    "\n",
    "roll=input(\"enter 5 roll numbers of students:\").split(\",\")\n",
    "rolls=list(map(int,roll))\n",
    "name=input(\"enter 5 names of the students of roll number:\").split(\",\")\n",
    "students=dict(zip(rolls,name)) \n",
    "print(\"before sorting:\",students)\n",
    "\n",
    "ao=dict(sorted(students.items()))\n",
    "print(\"sorted in ascending order:\",ao)\n",
    "\n",
    "do=dict(sorted(students.items(),reverse=True))\n",
    "print(\"sorted in descending order:\",do)\n",
    "\n"
   ]
  },
  {
   "cell_type": "code",
   "execution_count": 35,
   "id": "88dd1e8c",
   "metadata": {},
   "outputs": [
    {
     "name": "stdout",
     "output_type": "stream",
     "text": [
      "enter 3 roll numbers of students in dict1:1,2,3\n",
      "enter 3 names of the students of roll number:sahva,naira,sinu\n",
      "dict1 students: {1: 'sahva', 2: 'naira', 3: 'sinu'}\n",
      "enter 2 roll numbers of students in dict2:5,6\n",
      "enter 2 names of the students of roll number:anu,lachu\n",
      "dict2 students: {5: 'anu', 6: 'lachu'}\n",
      "merged dictionary: {1: 'sahva', 2: 'naira', 3: 'sinu', 5: 'anu', 6: 'lachu'}\n"
     ]
    }
   ],
   "source": [
    "#2.write a python program to accept 2 dictionaries (dic1 contain 3 students names and roll numbers,and dic2 contain 2 students names and roll numbers).merge 2 dictionaries and display it[use update()]\n",
    "\n",
    "roll1=input(\"enter 3 roll numbers of students in dict1:\").split(\",\")\n",
    "rolls1=list(map(int,roll1))\n",
    "name1=input(\"enter 3 names of the students of roll number:\").split(\",\")\n",
    "students1=dict(zip(rolls1,name1)) \n",
    "print(\"dict1 students:\",students1)\n",
    "\n",
    "roll2=input(\"enter 2 roll numbers of students in dict2:\").split(\",\")\n",
    "rolls2=list(map(int,roll2))\n",
    "name2=input(\"enter 2 names of the students of roll number:\").split(\",\")\n",
    "students2=dict(zip(rolls2,name2)) \n",
    "print(\"dict2 students:\",students2)\n",
    "\n",
    "students1.update(students2)\n",
    "print(\"merged dictionary:\",students1)\n"
   ]
  },
  {
   "cell_type": "code",
   "execution_count": null,
   "id": "eac3b805",
   "metadata": {},
   "outputs": [],
   "source": [
    "\n"
   ]
  },
  {
   "cell_type": "code",
   "execution_count": null,
   "id": "beb6e677",
   "metadata": {},
   "outputs": [],
   "source": []
  }
 ],
 "metadata": {
  "kernelspec": {
   "display_name": "Python 3 (ipykernel)",
   "language": "python",
   "name": "python3"
  },
  "language_info": {
   "codemirror_mode": {
    "name": "ipython",
    "version": 3
   },
   "file_extension": ".py",
   "mimetype": "text/x-python",
   "name": "python",
   "nbconvert_exporter": "python",
   "pygments_lexer": "ipython3",
   "version": "3.11.5"
  }
 },
 "nbformat": 4,
 "nbformat_minor": 5
}
