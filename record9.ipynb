{
 "cells": [
  {
   "cell_type": "code",
   "execution_count": 13,
   "id": "6ddd23b3",
   "metadata": {},
   "outputs": [
    {
     "name": "stdout",
     "output_type": "stream",
     "text": [
      "enter the range:12\n",
      "even number from 1 to ,number: (2, 4, 6, 8, 10)\n",
      "sum: 30\n"
     ]
    }
   ],
   "source": [
    "#print all even number 1to 25 using range\n",
    "number=int(input(\"enter the range:\"))\n",
    "r=range(2,number,2)\n",
    "print(\"even number from 1 to ,number:\",tuple(r))\n",
    "total=sum(tuple(r))\n",
    "print(\"sum:\",total)\n"
   ]
  },
  {
   "cell_type": "code",
   "execution_count": 11,
   "id": "9229fd2c",
   "metadata": {},
   "outputs": [
    {
     "name": "stdout",
     "output_type": "stream",
     "text": [
      "enter the range:20\n",
      "enter first number:0\n",
      "even number from 1 to your range: (20, 19, 18, 17, 16, 15, 14, 13, 12, 11, 10, 9, 8, 7, 6, 5, 4, 3, 2, 1)\n",
      "sum: 210\n"
     ]
    }
   ],
   "source": [
    "#print in reverse and calculate sum\n",
    "\n",
    "number=int(input(\"enter the range:\"))\n",
    "num=int(input(\"enter first number:\"))\n",
    "\n",
    "r=range(number,num,-1)\n",
    "print(\"even number from 1 to your range:\",tuple(r))\n",
    "total=sum(tuple(r))\n",
    "print(\"sum:\",total)\n"
   ]
  },
  {
   "cell_type": "code",
   "execution_count": null,
   "id": "23570351",
   "metadata": {},
   "outputs": [],
   "source": []
  }
 ],
 "metadata": {
  "kernelspec": {
   "display_name": "Python 3 (ipykernel)",
   "language": "python",
   "name": "python3"
  },
  "language_info": {
   "codemirror_mode": {
    "name": "ipython",
    "version": 3
   },
   "file_extension": ".py",
   "mimetype": "text/x-python",
   "name": "python",
   "nbconvert_exporter": "python",
   "pygments_lexer": "ipython3",
   "version": "3.11.5"
  }
 },
 "nbformat": 4,
 "nbformat_minor": 5
}
