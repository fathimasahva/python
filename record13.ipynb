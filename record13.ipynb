{
 "cells": [
  {
   "cell_type": "code",
   "execution_count": 21,
   "id": "42bba897",
   "metadata": {},
   "outputs": [
    {
     "name": "stdout",
     "output_type": "stream",
     "text": [
      "Enter list of words (comma separated): fathima sahva,sinu\n",
      "Length of longest word: 13\n"
     ]
    }
   ],
   "source": [
    "#1. Accept a list of words and return length of longest word.\n",
    "\n",
    "name = input(\"Enter list of words (comma separated): \").split(\",\")\n",
    "names = list(name)\n",
    "\n",
    "def word_list(names):\n",
    "    result = max(len(w.strip()) for w in names)  \n",
    "    return result\n",
    "\n",
    "print(\"Length of longest word:\", word_list(names))\n"
   ]
  },
  {
   "cell_type": "code",
   "execution_count": 20,
   "id": "234bcc7f",
   "metadata": {},
   "outputs": [
    {
     "name": "stdout",
     "output_type": "stream",
     "text": [
      "Number of stars in the longest row:5\n",
      "*  \n",
      "*  *  \n",
      "*  *  *  \n",
      "*  *  *  *  \n",
      "*  *  *  *  *  \n",
      "*  *  *  *  \n",
      "*  *  *  \n",
      "*  *  \n",
      "*  \n"
     ]
    }
   ],
   "source": [
    "\"\"\"2. Construct following pattern using nested loop \n",
    "                * \n",
    "                *  * \n",
    "                *  *  * \n",
    "                *  *  *  * \n",
    "                *  *  *  *  * \n",
    "                *  *  *  * \n",
    "                *  *  * \n",
    "                *  * \n",
    "                *\n",
    "\"\"\"\n",
    "\n",
    "n = int(input(\"Number of stars in the longest row:\"))  \n",
    "def upper(n):\n",
    "    for i in range(1, n + 1):\n",
    "        for j in range(i):\n",
    "            print(\"*\", end=\"  \")\n",
    "        print()  \n",
    "    for i in range(n - 1, 0, -1):\n",
    "        for j in range(i):\n",
    "            print(\"*\", end=\"  \")\n",
    "        print()\n",
    "\n",
    "upper(n)\n",
    "\n"
   ]
  },
  {
   "cell_type": "code",
   "execution_count": 35,
   "id": "a557be63",
   "metadata": {},
   "outputs": [
    {
     "name": "stdout",
     "output_type": "stream",
     "text": [
      "Enter a number: 4\n",
      "Factors of the number: [1, 2, 4]\n"
     ]
    }
   ],
   "source": [
    "# 3. Generate all factors of a number.\n",
    "num = int(input(\"Enter a number: \"))\n",
    "\n",
    "def fac(n):\n",
    "    result = []\n",
    "    for i in range(1, n + 1):  \n",
    "        if n % i == 0:\n",
    "            result.append(i)\n",
    "    return result\n",
    "\n",
    "print(\"Factors of the number:\", fac(num))\n"
   ]
  },
  {
   "cell_type": "code",
   "execution_count": 39,
   "id": "2279ca52",
   "metadata": {},
   "outputs": [
    {
     "name": "stdout",
     "output_type": "stream",
     "text": [
      "enter side of square:5\n",
      "enter height of rectangle:2\n",
      "enter width of rectangle:3\n",
      "enter height of triangle:6\n",
      "enter base of triangle:1\n",
      "area of a square is: 25.0\n",
      "area of a rectangle is: 6.0\n",
      "area of a triangle is: 3.0\n"
     ]
    }
   ],
   "source": [
    "#4. Write lambda functions to find area of square, rectangle and triangle.\n",
    "\n",
    "\n",
    "\n",
    "square=lambda s:s**2\n",
    "\n",
    "rectangle=lambda hi,w:hi * w\n",
    "\n",
    "triangle=lambda b,h:0.5*b*h\n",
    "\n",
    "s=float(input(\"enter side of square:\"))\n",
    "hi=float(input(\"enter height of rectangle:\"))\n",
    "w=float(input(\"enter width of rectangle:\"))\n",
    "h=float(input(\"enter height of triangle:\"))\n",
    "\n",
    "b=float(input(\"enter base of triangle:\"))\n",
    "\n",
    "print(\"area of a square is:\",square(s))\n",
    "print(\"area of a rectangle is:\",rectangle(hi,w))\n",
    "print(\"area of a triangle is:\",triangle(h,b))\n"
   ]
  },
  {
   "cell_type": "code",
   "execution_count": null,
   "id": "4f7673da",
   "metadata": {},
   "outputs": [],
   "source": []
  }
 ],
 "metadata": {
  "kernelspec": {
   "display_name": "Python 3 (ipykernel)",
   "language": "python",
   "name": "python3"
  },
  "language_info": {
   "codemirror_mode": {
    "name": "ipython",
    "version": 3
   },
   "file_extension": ".py",
   "mimetype": "text/x-python",
   "name": "python",
   "nbconvert_exporter": "python",
   "pygments_lexer": "ipython3",
   "version": "3.11.5"
  }
 },
 "nbformat": 4,
 "nbformat_minor": 5
}
